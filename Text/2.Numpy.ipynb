{
 "cells": [
  {
   "cell_type": "markdown",
   "metadata": {},
   "source": [
    "# NumPy"
   ]
  },
  {
   "cell_type": "markdown",
   "metadata": {},
   "source": [
    "## NumPyの特徴\n",
    "\n",
    "　インタプリタ型であるPythonは、C言語などコンパイル型言語に比べ処理速度は遅い。また特にリストやタプルの処理は他のインタプリタ言語と比べても遅く、大規模データの処理には不向きである。\n",
    "\n",
    "　NumPy はその欠点を克服するためのライブラリ。\n",
    "\n",
    "- NumPyは、データ分析に欠かせない配列や行列の演算を高速に行うライブラリ。\n",
    "\n",
    "- NumPyは、C言語の処理性能とほぼ同等の速度で処理できるようなっている。 また、データ分析に欠かせない、統計計算の関数も多数備えている。\n",
    "\n",
    "- Pythonでデータ分析を行う時に最も使用されるパッケージである。"
   ]
  },
  {
   "cell_type": "markdown",
   "metadata": {},
   "source": [
    "## numpyの機能\n",
    "\n",
    "- ユニバーサル関数\n",
    "- 各種関数群（数学関数、統計関数)\n",
    "- 高機能な行列計算\n",
    "- ファイル入出力"
   ]
  },
  {
   "cell_type": "markdown",
   "metadata": {},
   "source": [
    "##  ndarray\n",
    "\n",
    "- Numpy で最も重要なクラス。多次元配列を表現するためのクラス\n",
    "- C言語と同様にメモリの連続領域にデータが格納される\n",
    "- 性能を求めるためには、以下の制約を守ることが必要\n",
    "  - 要素には全て同じデータ型のみ格納\n",
    "  - 各次元毎の要素数が等しい\n"
   ]
  },
  {
   "cell_type": "markdown",
   "metadata": {},
   "source": [
    "### ndarray の操作\n",
    "\n",
    "- 2行×3列のデータを生成"
   ]
  },
  {
   "cell_type": "code",
   "execution_count": 18,
   "metadata": {},
   "outputs": [
    {
     "name": "stdout",
     "output_type": "stream",
     "text": [
      "[[1 2 3]\n",
      " [4 5 6]]\n",
      "<class 'numpy.ndarray'>\n"
     ]
    }
   ],
   "source": [
    "import numpy as np\n",
    "\n",
    "data = np.array( [[1,2,3],[4,5,6]])\n",
    "print(data)\n",
    "data\n",
    "print(type(data))"
   ]
  },
  {
   "cell_type": "markdown",
   "metadata": {},
   "source": [
    "- インデックス指定はPython標準のリストと同様"
   ]
  },
  {
   "cell_type": "code",
   "execution_count": 19,
   "metadata": {},
   "outputs": [
    {
     "name": "stdout",
     "output_type": "stream",
     "text": [
      "[1 2 3]\n"
     ]
    }
   ],
   "source": [
    "## 1行目のデータを指定する\n",
    "print(data[0])"
   ]
  },
  {
   "cell_type": "markdown",
   "metadata": {},
   "source": [
    "- 2次元以上の配列は\n",
    "  - Pythonのリスト同様に 変数名[idx1][idx2][idx3]...\n",
    "  - 変数名[idx1, idx2, idx3,..]\n",
    "\n",
    "  の2通りの指定が可能\n"
   ]
  },
  {
   "cell_type": "code",
   "execution_count": 20,
   "metadata": {},
   "outputs": [
    {
     "name": "stdout",
     "output_type": "stream",
     "text": [
      "2\n",
      "2\n"
     ]
    }
   ],
   "source": [
    "## 1行目、2列目のデータを指定する\n",
    "print(data[0][1])\n",
    "print(data[0, 1])"
   ]
  },
  {
   "cell_type": "markdown",
   "metadata": {},
   "source": [
    "- 行列のサイズを確認するはshapeプロパティを使う\n"
   ]
  },
  {
   "cell_type": "code",
   "execution_count": 21,
   "metadata": {},
   "outputs": [
    {
     "name": "stdout",
     "output_type": "stream",
     "text": [
      "(2, 3)\n"
     ]
    }
   ],
   "source": [
    "\n",
    "print(data.shape)"
   ]
  },
  {
   "cell_type": "markdown",
   "metadata": {},
   "source": [
    "- 行数の確認はlen関数を使う\n"
   ]
  },
  {
   "cell_type": "code",
   "execution_count": 22,
   "metadata": {},
   "outputs": [
    {
     "name": "stdout",
     "output_type": "stream",
     "text": [
      "2\n"
     ]
    }
   ],
   "source": [
    "print(len(data))"
   ]
  },
  {
   "cell_type": "markdown",
   "metadata": {},
   "source": [
    "## Numpyのデータ型\n",
    "\n",
    "- Numpyの要素データ型はdtype属性で指定できる。\n",
    "- 指定しない場合はデータより暗黙的に推測\n"
   ]
  },
  {
   "cell_type": "markdown",
   "metadata": {},
   "source": [
    "主なデータ型\n",
    "\n",
    "|型 |型コード|説明|\n",
    "|:---|:--------|:----|\n",
    "|int8| i1   |符号付き8ビット整数|\n",
    "|int16| i2   |符号付き16ビット整数|\n",
    "|int32| i4   |符号付き32ビット整数|\n",
    "|int64| i8   |符号付き64ビット整数|\n",
    "|uint8| u1   |符号無し8ビット整数|\n",
    "|uint16| u2   |符号無し16ビット整数|\n",
    "|uint32| u4   |符号無し32ビット整数|\n",
    "|uint64| u8   |符号無し64ビット整数|\n",
    "|float32| f4もしくはf   |単精度浮動小数点|\n",
    "|float64| f8もしくはd   |倍精度浮動小数点|\n",
    "|float128| f16もしくはg   |4倍精度浮動小数点|\n",
    "|complex64| c8   |複素数型(実部32ビット、虚部32ビット)|\n",
    "|complex128| c16   |複素数型(実部64ビット、虚部64ビット)|\n",
    "|strings\\_ | s   |文字列|\n",
    "\n",
    "\n",
    "\n"
   ]
  },
  {
   "cell_type": "code",
   "execution_count": 23,
   "metadata": {},
   "outputs": [
    {
     "data": {
      "text/plain": [
       "array([1., 2., 3.])"
      ]
     },
     "execution_count": 23,
     "metadata": {},
     "output_type": "execute_result"
    }
   ],
   "source": [
    "#データ型の指定\n",
    "#型ないし型コードを指定\n",
    "data = np.array([1,2,3],dtype='float64')\n",
    "data"
   ]
  },
  {
   "cell_type": "code",
   "execution_count": 24,
   "metadata": {},
   "outputs": [
    {
     "data": {
      "text/plain": [
       "dtype('float64')"
      ]
     },
     "execution_count": 24,
     "metadata": {},
     "output_type": "execute_result"
    }
   ],
   "source": [
    "#データ型の確認\n",
    "data.dtype"
   ]
  },
  {
   "cell_type": "markdown",
   "metadata": {},
   "source": [
    "## 様々な初期化方法"
   ]
  },
  {
   "cell_type": "markdown",
   "metadata": {},
   "source": [
    "### arange関数\n",
    "arange関数を使い連続した値を要素とするndarrayを作成する。  \n",
    "引数の指定はpython標準のrange関数とほぼ同様で、arange(開始 [,終了[,増分]])。   \n",
    "ただし引数には小数を指定することができる"
   ]
  },
  {
   "cell_type": "code",
   "execution_count": 25,
   "metadata": {},
   "outputs": [
    {
     "name": "stdout",
     "output_type": "stream",
     "text": [
      "[0 1 2 3 4 5 6 7 8 9]\n",
      "<class 'numpy.ndarray'>\n"
     ]
    }
   ],
   "source": [
    "t = np.arange(10)\n",
    "print(t)\n",
    "print(type(t))"
   ]
  },
  {
   "cell_type": "code",
   "execution_count": 26,
   "metadata": {},
   "outputs": [
    {
     "name": "stdout",
     "output_type": "stream",
     "text": [
      "[0 1 2 3 4 5 6 7 8 9]\n",
      "<class 'numpy.ndarray'>\n"
     ]
    }
   ],
   "source": [
    "t = np.arange(0,10)\n",
    "print(t)\n",
    "print(type(t))"
   ]
  },
  {
   "cell_type": "code",
   "execution_count": 27,
   "metadata": {},
   "outputs": [
    {
     "data": {
      "text/plain": [
       "array([1. , 1.2, 1.4, 1.6, 1.8])"
      ]
     },
     "execution_count": 27,
     "metadata": {},
     "output_type": "execute_result"
    }
   ],
   "source": [
    "t = np.arange(1, 1.9, 0.2)\n",
    "t"
   ]
  },
  {
   "cell_type": "markdown",
   "metadata": {},
   "source": [
    "### linspace関数\n",
    "開始値、終了値、その間の要素数を指定して ndarray を作成する"
   ]
  },
  {
   "cell_type": "code",
   "execution_count": 28,
   "metadata": {},
   "outputs": [
    {
     "name": "stdout",
     "output_type": "stream",
     "text": [
      "[ 0.   1.2  2.4  3.6  4.8  6.   7.2  8.4  9.6 10.8 12. ]\n"
     ]
    }
   ],
   "source": [
    "t=np.linspace(0, 12, 11)\n",
    "print(t)"
   ]
  },
  {
   "cell_type": "markdown",
   "metadata": {},
   "source": [
    "### zeros関数、ones関数\n",
    "zeros関数、ones関数を使い、要素を全て0、1で初期化する。  \n",
    "引数は要素数の整数値、またはshapeの形(タプル)。  \n",
    "dtypeの指定も可能。省略時はfloat64がデフォルト"
   ]
  },
  {
   "cell_type": "code",
   "execution_count": 29,
   "metadata": {},
   "outputs": [
    {
     "name": "stdout",
     "output_type": "stream",
     "text": [
      "float64\n",
      "[0. 0. 0. 0. 0.]\n"
     ]
    }
   ],
   "source": [
    "t=np.zeros(5)       \n",
    "print(t.dtype)\n",
    "print(t)"
   ]
  },
  {
   "cell_type": "code",
   "execution_count": 30,
   "metadata": {},
   "outputs": [
    {
     "name": "stdout",
     "output_type": "stream",
     "text": [
      "[[0. 0.]\n",
      " [0. 0.]]\n"
     ]
    }
   ],
   "source": [
    "#shapeを(2,2)で作成した例\n",
    "t=np.zeros((2,2))\n",
    "print(t)"
   ]
  },
  {
   "cell_type": "code",
   "execution_count": 31,
   "metadata": {},
   "outputs": [
    {
     "name": "stdout",
     "output_type": "stream",
     "text": [
      "int32\n",
      "[1 1 1 1 1]\n"
     ]
    }
   ],
   "source": [
    "t=np.ones(5, dtype='int32')\n",
    "print(t.dtype)\n",
    "print(t)"
   ]
  },
  {
   "cell_type": "markdown",
   "metadata": {},
   "source": [
    "### full関数\n",
    "同じ値で初期化した ndarray を作成する。\n",
    "引数は shape (タプル)と初期化に使う値。"
   ]
  },
  {
   "cell_type": "code",
   "execution_count": 32,
   "metadata": {},
   "outputs": [
    {
     "data": {
      "text/plain": [
       "array([[8, 8],\n",
       "       [8, 8],\n",
       "       [8, 8]])"
      ]
     },
     "execution_count": 32,
     "metadata": {},
     "output_type": "execute_result"
    }
   ],
   "source": [
    "t = np.full((3, 2), 8)\n",
    "t"
   ]
  },
  {
   "cell_type": "markdown",
   "metadata": {},
   "source": [
    "## 配列の次元数の操作"
   ]
  },
  {
   "cell_type": "markdown",
   "metadata": {},
   "source": [
    "### 多次元配列の1次元化\n",
    "多次元の ndarray を1次元化するには、flatten メソッドか、ravel 関数を使う。"
   ]
  },
  {
   "cell_type": "code",
   "execution_count": 33,
   "metadata": {},
   "outputs": [
    {
     "data": {
      "text/plain": [
       "array([1, 2, 3, 4, 5, 6])"
      ]
     },
     "execution_count": 33,
     "metadata": {},
     "output_type": "execute_result"
    }
   ],
   "source": [
    "d = np.array([[1,2,3],[4,5,6]])\n",
    "d_f = d.flatten()\n",
    "d_f"
   ]
  },
  {
   "cell_type": "code",
   "execution_count": 34,
   "metadata": {},
   "outputs": [
    {
     "data": {
      "text/plain": [
       "array([1, 2, 3, 4, 5, 6])"
      ]
     },
     "execution_count": 34,
     "metadata": {},
     "output_type": "execute_result"
    }
   ],
   "source": [
    "d = np.array([[1,2,3],[4,5,6]])\n",
    "d_f = np.ravel(d)\n",
    "d.ravel()\n"
   ]
  },
  {
   "cell_type": "markdown",
   "metadata": {},
   "source": [
    "### ndarray を連結\n",
    "vstack や hstack 関数を使う。vstack は垂直方向(Vertical)、hstack は水平方向(Horizontal)。"
   ]
  },
  {
   "cell_type": "code",
   "execution_count": 35,
   "metadata": {},
   "outputs": [
    {
     "name": "stdout",
     "output_type": "stream",
     "text": [
      "[[1 2 3]\n",
      " [4 5 6]\n",
      " [7 8 9]]\n",
      "[[11 12 13]\n",
      " [14 15 16]\n",
      " [17 18 19]]\n"
     ]
    }
   ],
   "source": [
    "a = np.array([[1,2,3],[4,5,6],[7,8,9]])\n",
    "b = np.array([[11,12,13],[14,15,16],[17,18,19]])\n",
    "print(a)\n",
    "print(b)"
   ]
  },
  {
   "cell_type": "code",
   "execution_count": 36,
   "metadata": {},
   "outputs": [
    {
     "data": {
      "text/plain": [
       "array([[ 1,  2,  3],\n",
       "       [ 4,  5,  6],\n",
       "       [ 7,  8,  9],\n",
       "       [11, 12, 13],\n",
       "       [14, 15, 16],\n",
       "       [17, 18, 19]])"
      ]
     },
     "execution_count": 36,
     "metadata": {},
     "output_type": "execute_result"
    }
   ],
   "source": [
    "np.vstack((a,b))"
   ]
  },
  {
   "cell_type": "code",
   "execution_count": 37,
   "metadata": {},
   "outputs": [
    {
     "data": {
      "text/plain": [
       "array([[ 1,  2,  3, 11, 12, 13],\n",
       "       [ 4,  5,  6, 14, 15, 16],\n",
       "       [ 7,  8,  9, 17, 18, 19]])"
      ]
     },
     "execution_count": 37,
     "metadata": {},
     "output_type": "execute_result"
    }
   ],
   "source": [
    "np.hstack((a,b))"
   ]
  },
  {
   "cell_type": "markdown",
   "metadata": {},
   "source": [
    "### 配列の次元変更\n",
    "reshape メソッドを使用する。  \n",
    "\n",
    "変更したい shape を引数として与える(可変長引数)。"
   ]
  },
  {
   "cell_type": "code",
   "execution_count": 38,
   "metadata": {},
   "outputs": [
    {
     "name": "stdout",
     "output_type": "stream",
     "text": [
      "[[1 2]\n",
      " [3 4]\n",
      " [5 6]]\n",
      "[[1 2 3]\n",
      " [4 5 6]]\n"
     ]
    }
   ],
   "source": [
    "x = np.array([[1,2],[3,4],[5,6]])\n",
    "print(x)\n",
    "y = x.reshape(2,3)\n",
    "print(y)"
   ]
  },
  {
   "cell_type": "markdown",
   "metadata": {},
   "source": [
    "引数として -1 を指定可能。-1 を指定した部分は要素数と他の引数から自動的に計算される。"
   ]
  },
  {
   "cell_type": "code",
   "execution_count": 39,
   "metadata": {},
   "outputs": [
    {
     "name": "stdout",
     "output_type": "stream",
     "text": [
      "[[[ 0  1  2  3  4  5  6  7  8  9]\n",
      "  [10 11 12 13 14 15 16 17 18 19]]\n",
      "\n",
      " [[20 21 22 23 24 25 26 27 28 29]\n",
      "  [30 31 32 33 34 35 36 37 38 39]]\n",
      "\n",
      " [[40 41 42 43 44 45 46 47 48 49]\n",
      "  [50 51 52 53 54 55 56 57 58 59]]\n",
      "\n",
      " [[60 61 62 63 64 65 66 67 68 69]\n",
      "  [70 71 72 73 74 75 76 77 78 79]]\n",
      "\n",
      " [[80 81 82 83 84 85 86 87 88 89]\n",
      "  [90 91 92 93 94 95 96 97 98 99]]]\n"
     ]
    }
   ],
   "source": [
    "x = np.arange(0, 100)\n",
    "\n",
    "print(x.reshape(-1,2,10))"
   ]
  },
  {
   "cell_type": "markdown",
   "metadata": {},
   "source": [
    "zeros 関数との組み合わせ。"
   ]
  },
  {
   "cell_type": "code",
   "execution_count": 40,
   "metadata": {},
   "outputs": [
    {
     "name": "stdout",
     "output_type": "stream",
     "text": [
      "[[0. 0. 0.]\n",
      " [0. 0. 0.]\n",
      " [0. 0. 0.]]\n",
      "[[0. 0. 0.]\n",
      " [0. 0. 0.]\n",
      " [0. 0. 0.]]\n"
     ]
    }
   ],
   "source": [
    "# zeros 関数単体\n",
    "x = np.zeros((3,3))\n",
    "print(x)\n",
    "# zeros * reshape\n",
    "y = np.zeros(9).reshape(3,3)\n",
    "print(y)"
   ]
  },
  {
   "cell_type": "markdown",
   "metadata": {},
   "source": [
    "flatten メソッドと同様の動作。"
   ]
  },
  {
   "cell_type": "code",
   "execution_count": 41,
   "metadata": {},
   "outputs": [
    {
     "data": {
      "text/plain": [
       "array([1, 2, 3, 4, 5, 6])"
      ]
     },
     "execution_count": 41,
     "metadata": {},
     "output_type": "execute_result"
    }
   ],
   "source": [
    "x = np.array([[1,2,3],[4,5,6]])\n",
    "y = x.reshape(-1)\n",
    "y"
   ]
  },
  {
   "cell_type": "markdown",
   "metadata": {},
   "source": [
    "要素数に対して、指定した shape が合わなければ例外が発生する。"
   ]
  },
  {
   "cell_type": "markdown",
   "metadata": {},
   "source": [
    "```\n",
    "x = np.array([[1,2,3],[4,5,6]]) # 要素 6 個に対して\n",
    "x.reshape(2,4)                  # shape=(2, 4) は要素 8 個必要\n",
    "---------------------------------------------------------------------------\n",
    "ValueError                                Traceback (most recent call last)\n",
    "Cell In[42], line 2\n",
    "      1 x = np.array([[1,2,3],[4,5,6]]) # 要素 6 個に対して\n",
    "----> 2 x.reshape(2,4)                  # shape=(2, 4) は要素 8 個必要\n",
    "\n",
    "ValueError: cannot reshape array of size 6 into shape (2,4)`````\n",
    "```\n",
    "\n"
   ]
  },
  {
   "cell_type": "markdown",
   "metadata": {},
   "source": [
    "## 乱数発生"
   ]
  },
  {
   "cell_type": "markdown",
   "metadata": {},
   "source": [
    "### numpyの乱数生成関数を使用する\n",
    "乱数発生には np.random(numpy.random) モジュールを使用する。  \n",
    "np.random に含まれる主な関数  \n",
    "- randint：整数の乱数\n",
    "- rand：0.0 以上 1.0 未満の小数の乱数\n",
    "- normal：正規分布に従う乱数\n",
    "- randn：標準正規分布に従う乱数"
   ]
  },
  {
   "cell_type": "markdown",
   "metadata": {},
   "source": [
    "### randint の使用例  \n",
    "引数は、最小値、最大値、個数(または shape を表すタプル)。"
   ]
  },
  {
   "cell_type": "code",
   "execution_count": null,
   "metadata": {},
   "outputs": [
    {
     "data": {
      "text/plain": [
       "array([20, 56, 96, 21, 49, 24, 20, 41, 79, 78, 50, 38,  5, 20, 58, 16, 38,\n",
       "       31, 55, 55])"
      ]
     },
     "execution_count": 133,
     "metadata": {},
     "output_type": "execute_result"
    }
   ],
   "source": [
    "# 1以上、100未満のサンプル数20の一様乱数を発生させる\n",
    "x = np.random.randint(1,100,20)\n",
    "x"
   ]
  },
  {
   "cell_type": "code",
   "execution_count": null,
   "metadata": {},
   "outputs": [
    {
     "data": {
      "text/plain": [
       "array([[30, 81, 38, 30,  3],\n",
       "       [29, 97, 96, 70,  6],\n",
       "       [72,  9, 43, 96, 42],\n",
       "       [58, 17, 20,  8, 49]])"
      ]
     },
     "execution_count": 134,
     "metadata": {},
     "output_type": "execute_result"
    }
   ],
   "source": [
    "# 1以上、100未満でサンプル4行×５列の2次元配列として一様乱数を発生させる\n",
    "x = np.random.randint(1,100,(4,5))\n",
    "x"
   ]
  },
  {
   "cell_type": "markdown",
   "metadata": {},
   "source": [
    "### rand の使用例\n",
    "引数は、個数(または shape を表すタプル)。"
   ]
  },
  {
   "cell_type": "code",
   "execution_count": null,
   "metadata": {},
   "outputs": [
    {
     "data": {
      "text/plain": [
       "array([0.88404238, 0.01994236, 0.10279524, 0.09408064, 0.26579732,\n",
       "       0.19494769, 0.39413634, 0.78945251, 0.08811056, 0.37784502,\n",
       "       0.39166806, 0.30236735, 0.46753248, 0.99066371, 0.74724845,\n",
       "       0.08390038, 0.61536201, 0.19523116, 0.38083426, 0.94743714])"
      ]
     },
     "execution_count": 135,
     "metadata": {},
     "output_type": "execute_result"
    }
   ],
   "source": [
    "# 0以上、1.0未満でサンプル数20の実数の一様乱数を発生させる\n",
    "x = np.random.rand(20)\n",
    "x"
   ]
  },
  {
   "cell_type": "code",
   "execution_count": null,
   "metadata": {},
   "outputs": [
    {
     "data": {
      "text/plain": [
       "array([[0.23537807, 0.40575921, 0.97170332, 0.04392251, 0.2852446 ],\n",
       "       [0.27046407, 0.46284975, 0.42479225, 0.75564928, 0.25149846],\n",
       "       [0.86334712, 0.5876344 , 0.70814487, 0.0254017 , 0.13635519],\n",
       "       [0.54640583, 0.26184223, 0.18446137, 0.10799119, 0.09059236]])"
      ]
     },
     "execution_count": 136,
     "metadata": {},
     "output_type": "execute_result"
    }
   ],
   "source": [
    "#0以上、1.0未満のでサンプル4行×５列の2次元配列として一様乱数を発生させる\n",
    "y = np.random.rand(4,5)\n",
    "y"
   ]
  },
  {
   "cell_type": "markdown",
   "metadata": {},
   "source": [
    "- (参考) Python 標準にも乱数を発生する random モジュールがある。  \n",
    "random.random() は0.0 以上 1.0 未満の乱数を生成する。  \n",
    "これを使って上と同じshapeの ndarray を作成するとすると、"
   ]
  },
  {
   "cell_type": "code",
   "execution_count": null,
   "metadata": {},
   "outputs": [
    {
     "name": "stdout",
     "output_type": "stream",
     "text": [
      "[0.92274915 0.33893078 0.98221728 0.17908326 0.98653723 0.04260834\n",
      " 0.06971492 0.74772849 0.98348317 0.03987667 0.38853866 0.20849092\n",
      " 0.59394949 0.41194107 0.41661645 0.35797238 0.61484956 0.78792538\n",
      " 0.92831797 0.78430138]\n",
      "[[0.88586328 0.45832733 0.32787552 0.22108141 0.50560403]\n",
      " [0.25769003 0.19129685 0.2062138  0.37189716 0.38455922]\n",
      " [0.94009742 0.25309455 0.92199952 0.10935866 0.54650002]\n",
      " [0.86164068 0.73142118 0.50150345 0.48021696 0.75707085]]\n"
     ]
    }
   ],
   "source": [
    "import random\n",
    "\n",
    "x = np.array( [random.random() for i in range(20)])\n",
    "print(x)\n",
    "y = np.array( [[random.random() for j in range(5)] for i in range(4)])\n",
    "print(y)\n"
   ]
  },
  {
   "cell_type": "markdown",
   "metadata": {},
   "source": [
    "- 乱数を作成するときの最初の設定値のことを *seed値*と言う。  \n",
    "コンピュータで乱数を生成する場合、ある数値をseed(種)として用い、その値を基にして特定の演算により乱数を生成する。  \n",
    "このため同じシード値を使用した場合、発生する乱数（結果）はまったく同じものとなる。"
   ]
  },
  {
   "cell_type": "code",
   "execution_count": null,
   "metadata": {},
   "outputs": [
    {
     "data": {
      "text/plain": [
       "array([47, 56, 70,  2, 88, 73, 51, 10, 59, 95, 56, 56, 58, 37, 51, 45, 39,\n",
       "       53,  4,  1])"
      ]
     },
     "execution_count": 138,
     "metadata": {},
     "output_type": "execute_result"
    }
   ],
   "source": [
    "#import numpy as np\n",
    "np.random.seed(4)\n",
    "\n",
    "x = np.random.randint(1,100,20)\n",
    "x"
   ]
  },
  {
   "cell_type": "markdown",
   "metadata": {},
   "source": [
    "### normal 関数の使用例\n",
    "正規分布(ガウス分布)とは統計で最も知られた確率分布。\n",
    "\n",
    "自然界の事象、社会現象で正規分布に従うものが多い(人の身長、体重、試験の成績など)。  \n",
    "\n",
    "定義式は\n",
    "\n",
    "$$\n",
    "f(x) = \\frac{1}{\\sqrt{2\\pi\\sigma^2}}\\exp(-\\frac{(x-\\mu)^2}{2\\sigma^2})\n",
    "\\\\\n",
    "　\n",
    "\\\\\n",
    "\\sigma : 標準偏差、\\mu ：平均\n",
    "$$"
   ]
  },
  {
   "cell_type": "markdown",
   "metadata": {},
   "source": [
    "(参考) Matplotlib を使ってグラフ化"
   ]
  },
  {
   "cell_type": "code",
   "execution_count": null,
   "metadata": {},
   "outputs": [
    {
     "data": {
      "image/png": "[encoded data removed]",
      "text/plain": [
       "<Figure size 640x480 with 1 Axes>"
      ]
     },
     "metadata": {},
     "output_type": "display_data"
    }
   ],
   "source": [
    "%matplotlib inline\n",
    "import matplotlib.pyplot as plt\n",
    "\n",
    "def f(x):\n",
    "    # 平均 1.0、標準偏差 1.0\n",
    "    sigma = 1.0\n",
    "    mu = 0.0\n",
    "    return np.exp(-1 * (x - mu)**2 / (2 * sigma**2)) / np.sqrt(2 * np.pi * sigma**2)\n",
    "\n",
    "x = np.linspace(-3, 3, 100)\n",
    "plt.plot(x, f(x))\n",
    "plt.grid()"
   ]
  },
  {
   "cell_type": "markdown",
   "metadata": {},
   "source": [
    "平均50, 標準偏差20 ，サンプル数50個の正規分布に従う乱数を発生。\n",
    "\n",
    "normal の引数は、平均、標準偏差、サンプル数。"
   ]
  },
  {
   "cell_type": "code",
   "execution_count": null,
   "metadata": {},
   "outputs": [
    {
     "data": {
      "text/plain": [
       "array([56.64500065, 27.05046734, 62.37339378, 48.24026143, 58.50144793,\n",
       "       56.64506291, 26.86367478, 57.01994306, 37.86225434, 80.93958658,\n",
       "       64.46683217, 50.92271134, 30.34016693, 51.08865478, 53.1978587 ,\n",
       "       25.82103682, 94.46720434, 57.88590429, 83.8471543 , 27.74375692,\n",
       "       82.71495084, 22.78068816, 36.97548333, 60.84902617, 50.96012494,\n",
       "        2.83852734, 27.88831912, 66.75672708, 91.75741737, 68.29681916,\n",
       "       44.47593291, 65.93023797, 27.12402856, 60.19839566, 23.0507941 ,\n",
       "       49.81279799, 47.38590723, 66.04173227, 43.94072066, 74.0400518 ,\n",
       "       46.06509443, 66.73057404, 65.73204566, 13.18248266, 50.75094973,\n",
       "       50.71856103, 34.42520151, 53.58821429, 20.88931346, 61.12370446])"
      ]
     },
     "execution_count": 140,
     "metadata": {},
     "output_type": "execute_result"
    }
   ],
   "source": [
    "x = np.random.normal(50,20,50)\n",
    "x"
   ]
  },
  {
   "cell_type": "markdown",
   "metadata": {},
   "source": [
    "### randn の使用例\n",
    "標準正規分布とは、平均 0 、標準偏差 1 の正規分布のこと。\n",
    "\n",
    "サンプル数50個の標準正規分布に従う乱数を発生。\n",
    "\n",
    "引数はサンプル数。"
   ]
  },
  {
   "cell_type": "code",
   "execution_count": null,
   "metadata": {},
   "outputs": [
    {
     "data": {
      "text/plain": [
       "array([ 0.50977885,  0.30044554,  2.47658416,  0.3523434 ,  0.067471  ,\n",
       "       -0.7322647 ,  0.29714121, -0.9617768 ,  1.27181862, -0.64764453,\n",
       "        0.15846954,  1.99008302,  1.16418756,  0.24266016,  1.3799201 ,\n",
       "       -0.05455871,  0.79523395,  0.01908996, -0.90543814,  0.43027133,\n",
       "        0.93465006, -0.34610187, -1.09712188, -0.52819607, -2.37977527,\n",
       "       -0.60768369, -1.07529009,  2.02240507, -0.5648753 , -1.54292905,\n",
       "        0.87084178, -0.17521053,  0.04860301,  0.1886462 ,  0.20931349,\n",
       "       -0.37444492,  0.9546986 ,  0.52324766, -0.49581852, -0.17146461,\n",
       "       -0.9443686 ,  0.28086468,  0.73824711,  0.65075323,  0.61474063,\n",
       "       -0.12656859,  1.57887425, -0.20718168,  0.03006708, -0.33617984])"
      ]
     },
     "execution_count": 141,
     "metadata": {},
     "output_type": "execute_result"
    }
   ],
   "source": [
    "x = np.random.randn(50)\n",
    "x"
   ]
  },
  {
   "cell_type": "markdown",
   "metadata": {},
   "source": [
    "- (参考) 正規分布に従う2次元データの乱数\n",
    "\n",
    "2次元以上のデータについて正規分布に従う乱数を発生させるには、random.multivariate_normal 関数を使用する。2つのデータの平均と、標準偏差に変わり共分散と呼ばれる値を指定する。"
   ]
  },
  {
   "cell_type": "code",
   "execution_count": null,
   "metadata": {},
   "outputs": [
    {
     "data": {
      "text/plain": [
       "array([[ 9.85377565, 29.51212349],\n",
       "       [ 2.81563137, 28.38269663],\n",
       "       [15.99427498, 31.20592714],\n",
       "       [14.36230295, 33.06056941],\n",
       "       [ 5.54521411, 27.69158345],\n",
       "       [ 8.01650301, 28.9551427 ],\n",
       "       [ 7.65535258, 32.38136333],\n",
       "       [11.87071278, 28.37218141],\n",
       "       [ 7.26019222, 30.02983528],\n",
       "       [ 7.13303175, 30.91838572]])"
      ]
     },
     "execution_count": 142,
     "metadata": {},
     "output_type": "execute_result"
    }
   ],
   "source": [
    "from numpy.random import multivariate_normal\n",
    "\n",
    "data = multivariate_normal([10,30],[[12,3],[3,4]],10)\n",
    "#平均[10,30] 共分散[[12,3],[3.4]]\n",
    "\n",
    "data"
   ]
  },
  {
   "cell_type": "markdown",
   "metadata": {},
   "source": [
    "### 抽出、シャッフル\n",
    "\n",
    "あらかじめ作成されたリストから、ランダムに要素を抽出する際には random.choice 関数を使用する。\n",
    "\n",
    "引数には、対象のリストと抽出する個数を指定する。"
   ]
  },
  {
   "cell_type": "code",
   "execution_count": null,
   "metadata": {},
   "outputs": [
    {
     "data": {
      "text/plain": [
       "array([12, 54, 54])"
      ]
     },
     "execution_count": 143,
     "metadata": {},
     "output_type": "execute_result"
    }
   ],
   "source": [
    "a = [23, 54, 32, 78, 12, 98, 62]\n",
    "b = np.random.choice(a, 3)\n",
    "b"
   ]
  },
  {
   "cell_type": "markdown",
   "metadata": {},
   "source": [
    "リストの要素をランダムにシャッフルしたい場合は、random.shuffle 関数を使用する。"
   ]
  },
  {
   "cell_type": "code",
   "execution_count": null,
   "metadata": {},
   "outputs": [
    {
     "data": {
      "text/plain": [
       "[1, 3, 2, 4, 5]"
      ]
     },
     "execution_count": 144,
     "metadata": {},
     "output_type": "execute_result"
    }
   ],
   "source": [
    "a = [1, 2, 3, 4, 5]\n",
    "np.random.shuffle(a)\n",
    "a"
   ]
  },
  {
   "cell_type": "markdown",
   "metadata": {},
   "source": [
    "##  スライシング\n",
    "\n",
    "　スライス記法で、部分的に要素を切り出せる。\n"
   ]
  },
  {
   "cell_type": "markdown",
   "metadata": {},
   "source": [
    "- 3行×3列のデータ生成\n"
   ]
  },
  {
   "cell_type": "code",
   "execution_count": null,
   "metadata": {},
   "outputs": [
    {
     "data": {
      "text/plain": [
       "array([[1, 2, 3],\n",
       "       [4, 5, 6],\n",
       "       [7, 8, 9]])"
      ]
     },
     "execution_count": 145,
     "metadata": {},
     "output_type": "execute_result"
    }
   ],
   "source": [
    "import numpy as np\n",
    "\n",
    "a = np.arange(1,10).reshape(3,3)\n",
    "a"
   ]
  },
  {
   "cell_type": "markdown",
   "metadata": {},
   "source": [
    "- 2行目までの要素で、1列目以降\n"
   ]
  },
  {
   "cell_type": "code",
   "execution_count": null,
   "metadata": {},
   "outputs": [
    {
     "data": {
      "text/plain": [
       "array([[2, 3],\n",
       "       [5, 6]])"
      ]
     },
     "execution_count": 146,
     "metadata": {},
     "output_type": "execute_result"
    }
   ],
   "source": [
    "a[:2,1:]"
   ]
  },
  {
   "cell_type": "markdown",
   "metadata": {},
   "source": [
    "- ３行目（インデックス２）の全列\n"
   ]
  },
  {
   "cell_type": "code",
   "execution_count": null,
   "metadata": {},
   "outputs": [
    {
     "data": {
      "text/plain": [
       "array([7, 8, 9])"
      ]
     },
     "execution_count": 147,
     "metadata": {},
     "output_type": "execute_result"
    }
   ],
   "source": [
    "a[2,:]"
   ]
  },
  {
   "cell_type": "markdown",
   "metadata": {},
   "source": [
    "- 3列目のみ\n"
   ]
  },
  {
   "cell_type": "code",
   "execution_count": null,
   "metadata": {},
   "outputs": [
    {
     "data": {
      "text/plain": [
       "array([3, 6, 9])"
      ]
     },
     "execution_count": 148,
     "metadata": {},
     "output_type": "execute_result"
    }
   ],
   "source": [
    "a[:,2]"
   ]
  },
  {
   "cell_type": "markdown",
   "metadata": {},
   "source": [
    "- 2行目の3列目以降"
   ]
  },
  {
   "cell_type": "code",
   "execution_count": null,
   "metadata": {},
   "outputs": [
    {
     "data": {
      "text/plain": [
       "array([4, 5])"
      ]
     },
     "execution_count": 149,
     "metadata": {},
     "output_type": "execute_result"
    }
   ],
   "source": [
    "a[1,:2]"
   ]
  },
  {
   "cell_type": "markdown",
   "metadata": {},
   "source": [
    "## Bool値インデックス\n",
    "\n",
    "　Booleanの値を持った配列を用意して、Trueをとるインデックスの要素だけを参照。\n"
   ]
  },
  {
   "cell_type": "code",
   "execution_count": null,
   "metadata": {},
   "outputs": [
    {
     "name": "stdout",
     "output_type": "stream",
     "text": [
      "[1 2 3 4]\n",
      "[ True False False  True]\n",
      "[1 4]\n",
      "[2]\n"
     ]
    }
   ],
   "source": [
    "import numpy as np\n",
    "\n",
    "a = np.arange(1,5)\n",
    "print(a)\n",
    "b = np.array([True,False,False,True])\n",
    "print(b)\n",
    "print(a[b == True])\n",
    "\n",
    "print(a[a == 2])"
   ]
  },
  {
   "cell_type": "markdown",
   "metadata": {},
   "source": [
    "## 条件インデックス\n",
    "\n",
    "　条件指定し、条件に一致する要素のみ抽出。\n"
   ]
  },
  {
   "cell_type": "code",
   "execution_count": null,
   "metadata": {},
   "outputs": [
    {
     "data": {
      "text/plain": [
       "array([3, 4])"
      ]
     },
     "execution_count": 151,
     "metadata": {},
     "output_type": "execute_result"
    }
   ],
   "source": [
    "import numpy as np\n",
    "\n",
    "a = np.arange(1,5)\n",
    "\n",
    "a[a > 2]"
   ]
  },
  {
   "cell_type": "markdown",
   "metadata": {},
   "source": [
    "## ユニバーサル関数\n",
    "\n",
    "　ユニバーサル関数(ufunc)とは ndarrayを引数に、要素ごとの操作結果を返す関数です。\n",
    "\n",
    "　forループで実装する部分が単純化できます。\n"
   ]
  },
  {
   "cell_type": "markdown",
   "metadata": {},
   "source": [
    "- 各要素に１を加算するコード"
   ]
  },
  {
   "cell_type": "code",
   "execution_count": null,
   "metadata": {},
   "outputs": [
    {
     "data": {
      "text/plain": [
       "array([[2, 3],\n",
       "       [4, 5]])"
      ]
     },
     "execution_count": 152,
     "metadata": {},
     "output_type": "execute_result"
    }
   ],
   "source": [
    "import numpy as np\n",
    "\n",
    "a = np.arange(1,5).reshape(2,2)\n",
    "for i in range(2):\n",
    "    for j in range(2):\n",
    "        a[i, j] = a[i, j] + 1\n",
    "a"
   ]
  },
  {
   "cell_type": "markdown",
   "metadata": {},
   "source": [
    "- ユニバーサル関数を使う"
   ]
  },
  {
   "cell_type": "code",
   "execution_count": null,
   "metadata": {},
   "outputs": [
    {
     "data": {
      "text/plain": [
       "array([[2, 3],\n",
       "       [4, 5]])"
      ]
     },
     "execution_count": 153,
     "metadata": {},
     "output_type": "execute_result"
    }
   ],
   "source": [
    "import numpy as np\n",
    "\n",
    "a = np.arange(1,5).reshape(2,2)\n",
    "a = np.add(a,1)\n",
    "a"
   ]
  },
  {
   "cell_type": "markdown",
   "metadata": {},
   "source": [
    "- 主なユニバーサル関数\n",
    "\n",
    "|関数|説明|\n",
    "|:--|:--|\n",
    "|abs|絶対値を返す|\n",
    "|square|平方根を返す|\n",
    "|add|加算|\n",
    "|subtract|減算|\n",
    "|power|累乗|\n",
    "|mod|剰余|\n",
    "\n",
    "\n"
   ]
  },
  {
   "cell_type": "markdown",
   "metadata": {},
   "source": [
    "## ブロードキャスティング\n",
    "\n",
    "　四則演算もユニバーサル関数と同様に要素毎に計算ができます。これを「ブロードキャスティング」とも呼びます。\n"
   ]
  },
  {
   "cell_type": "markdown",
   "metadata": {},
   "source": [
    "- 各要素を１０倍にするコード\n"
   ]
  },
  {
   "cell_type": "code",
   "execution_count": null,
   "metadata": {},
   "outputs": [
    {
     "name": "stdout",
     "output_type": "stream",
     "text": [
      "[[10 20]\n",
      " [30 40]]\n",
      "[[15 25]\n",
      " [35 45]]\n",
      "[[1 1]\n",
      " [1 1]]\n"
     ]
    }
   ],
   "source": [
    "import numpy as np\n",
    "\n",
    "a = np.arange(1,5).reshape(2,2)\n",
    "a = a * 10\n",
    "print(a)\n",
    "a = a + 5\n",
    "print(a)\n",
    "a = a % 2\n",
    "print(a)"
   ]
  },
  {
   "cell_type": "markdown",
   "metadata": {},
   "source": [
    "## 行列計算\n",
    "\n",
    "- 加算\n",
    "\n",
    "$$\n",
    "\\begin{pmatrix}\n",
    "1 & 2 \\\\\n",
    "2 & 3\n",
    "\\end{pmatrix}\n",
    "+\n",
    "\\begin{pmatrix}\n",
    "10 & 20 \\\\\n",
    "20 & 30\n",
    "\\end{pmatrix}\n",
    "=\n",
    "\\begin{pmatrix}\n",
    "11 & 22 \\\\\n",
    "22 & 33\n",
    "\\end{pmatrix}\n",
    "$$\n"
   ]
  },
  {
   "cell_type": "code",
   "execution_count": null,
   "metadata": {},
   "outputs": [
    {
     "name": "stdout",
     "output_type": "stream",
     "text": [
      "[[ -9 -18]\n",
      " [-27 -36]]\n"
     ]
    }
   ],
   "source": [
    "import numpy as np\n",
    "\n",
    "a = np.array( [[1,2],\n",
    "               [3,4]])\n",
    "b = np.array( [[10,20],\n",
    "            [30,40]])\n",
    "\n",
    "c = a - b\n",
    "print(c)"
   ]
  },
  {
   "cell_type": "markdown",
   "metadata": {},
   "source": [
    "- 積\n",
    "\n",
    "$$\n",
    "\\begin{pmatrix}\n",
    "a & b \\\\\n",
    "c & d\n",
    "\\end{pmatrix}\n",
    "+\n",
    "\\begin{pmatrix}\n",
    "e & f \\\\\n",
    "g & h\n",
    "\\end{pmatrix}\n",
    "=\n",
    "\\begin{pmatrix}\n",
    "ae + bg & af + bh \\\\\n",
    "ce + dg & cf + dh\n",
    "\\end{pmatrix}\n",
    "$$\n",
    "\n",
    " 行列積を求めるには、\n",
    "\n",
    " - np.matmul() 関数\n",
    " - @ 演算子(Python3.5以降)\n",
    " - np.dot() 関数(メソッドとしても使用可)  \n",
    " (dot は2次元でのみ行列積として機能)\n",
    " "
   ]
  },
  {
   "cell_type": "code",
   "execution_count": null,
   "metadata": {},
   "outputs": [
    {
     "name": "stdout",
     "output_type": "stream",
     "text": [
      "[[ 70 100]\n",
      " [150 220]]\n",
      "[[ 70 100]\n",
      " [150 220]]\n",
      "[[ 70 100]\n",
      " [150 220]]\n",
      "[[ 70 100]\n",
      " [150 220]]\n"
     ]
    }
   ],
   "source": [
    "import numpy as np\n",
    "\n",
    "a = np.array( [[1,2],\n",
    "               [3, 4]])\n",
    "b = np.array( [[10, 20],\n",
    "            [30, 40]])\n",
    "\n",
    "print(np.matmul(a, b))\n",
    "print(a @ b)\n",
    "print(a.dot(b))\n",
    "print(np.dot(a, b))"
   ]
  },
  {
   "cell_type": "markdown",
   "metadata": {},
   "source": [
    "- 連立方程式を解く\n",
    "\n",
    "$$\n",
    "\\left\\{\n",
    "    \\begin{array}{l}\n",
    "    0.5 x -0.5 y = 1\\\\\n",
    "    0.5 x + y = 2\n",
    "    \\end{array}\n",
    "\\right.\n",
    "$$\n",
    "\n",
    "解は\n",
    "$$\n",
    "x = \\frac{8}{3},\n",
    "y = \\frac{2}{3}\n",
    "$$\n",
    "\n",
    "これを行列式にして解く。\n",
    "$$\n",
    "\\begin{pmatrix}\n",
    "0.5 & -0.5 \\\\\n",
    "0.5 & 1\n",
    "\\end{pmatrix}\n",
    "\\begin{pmatrix}\n",
    "x \\\\\n",
    "y\n",
    "\\end{pmatrix}\n",
    "=\n",
    "\\begin{pmatrix}\n",
    "1 \\\\\n",
    "2\n",
    "\\end{pmatrix}\n",
    "$$\n"
   ]
  },
  {
   "cell_type": "code",
   "execution_count": null,
   "metadata": {},
   "outputs": [
    {
     "data": {
      "text/plain": [
       "array([2.66666667, 0.66666667])"
      ]
     },
     "execution_count": 157,
     "metadata": {},
     "output_type": "execute_result"
    }
   ],
   "source": [
    "import numpy as np\n",
    "\n",
    "a = np.array([[0.5, -0.5], [0.5, 1]])\n",
    "b = np.array([1, 2])\n",
    "np.linalg.solve(a,b)"
   ]
  },
  {
   "cell_type": "markdown",
   "metadata": {},
   "source": [
    "## 統計量計算"
   ]
  },
  {
   "cell_type": "markdown",
   "metadata": {},
   "source": [
    "### 基本統計計算"
   ]
  },
  {
   "cell_type": "code",
   "execution_count": null,
   "metadata": {},
   "outputs": [
    {
     "name": "stdout",
     "output_type": "stream",
     "text": [
      "受験者数= 100\n",
      "最高点= 82.78363109799741\n",
      "最低点= 15.476919546795763\n",
      "平均点 50.90874278113548\n",
      "標準偏差 13.277343207473775\n"
     ]
    },
    {
     "data": {
      "text/plain": [
       "array([74.36518045, 40.8236538 , 42.07742372, 33.90547067, 62.98111444,\n",
       "       15.47691955, 76.17217646, 38.58189649, 54.78558644, 46.25944437,\n",
       "       71.93161906, 19.09788936, 45.16374194, 44.23918468, 67.00654164,\n",
       "       33.50163099, 47.41357689, 36.83212373, 50.6332062 , 58.74222821,\n",
       "       33.49071234, 67.17085565, 63.52386081, 57.53741508, 63.51283924,\n",
       "       39.74408211, 48.15664662, 35.96345849, 45.98167881, 57.955332  ,\n",
       "       39.62508872, 44.0486971 , 39.6924095 , 37.32191538, 39.93130804,\n",
       "       49.81003102, 33.24034477, 53.51623547, 74.89703266, 61.13066241,\n",
       "       47.12246671, 36.68556554, 38.79262559, 75.38681902, 50.76211632,\n",
       "       40.4450653 , 52.86373227, 81.50382705, 51.80238429, 59.25804665,\n",
       "       54.5025548 , 44.7162523 , 32.86222703, 44.75985916, 46.8665865 ,\n",
       "       58.79934787, 62.58475121, 63.96653122, 54.28380988, 63.27711746,\n",
       "       38.68403089, 68.79302233, 57.69394731, 45.52860747, 57.3277722 ,\n",
       "       48.8664243 , 66.97444081, 72.79725225, 82.7836311 , 29.05255497,\n",
       "       28.33829292, 42.43301206, 52.40055604, 63.14253382, 54.73452421,\n",
       "       19.66698176, 45.40693981, 62.41961964, 53.45142103, 61.4301677 ,\n",
       "       46.66507786, 46.98862897, 52.79842086, 56.15077471, 52.9744958 ,\n",
       "       51.78512969, 39.94006571, 55.66345679, 51.82731906, 66.94225862,\n",
       "       67.9837682 , 52.77734626, 44.37072575, 40.41904389, 56.35241531,\n",
       "       51.16010103, 44.84219487, 50.65395285, 40.69998734, 60.47048051])"
      ]
     },
     "execution_count": 158,
     "metadata": {},
     "output_type": "execute_result"
    }
   ],
   "source": [
    "import numpy as np\n",
    "\n",
    "#テストのデータをNumPyを使い準備する。\n",
    "np.random.seed(1)\n",
    "#平均５０，標準偏差15、サンプル100個データを準備\n",
    "x = np.random.normal(50,15,100)\n",
    "\n",
    "\n",
    "print('受験者数=',np.count_nonzero(x))\n",
    "print('最高点=',np.max(x))\n",
    "print('最低点=',np.min(x))\n",
    "print('平均点',np.average(x))\n",
    "print('標準偏差',np.std(x))\n",
    "x"
   ]
  },
  {
   "cell_type": "markdown",
   "metadata": {},
   "source": [
    "### ヒストグラム"
   ]
  },
  {
   "cell_type": "code",
   "execution_count": null,
   "metadata": {},
   "outputs": [
    {
     "data": {
      "text/plain": [
       "(array([ 5, 41, 40, 14], dtype=int64),\n",
       " array([15.47691955, 32.30359743, 49.13027532, 65.95695321, 82.7836311 ]))"
      ]
     },
     "execution_count": 159,
     "metadata": {},
     "output_type": "execute_result"
    }
   ],
   "source": [
    "np.histogram(x,bins=4)"
   ]
  },
  {
   "cell_type": "markdown",
   "metadata": {},
   "source": [
    "### 偏差値計算\n",
    "\n",
    " 偏差値を求める。\n",
    " \n",
    " 各点数をx,平均をa,標準偏差をsとして、偏差値yを求める式は 以下のようになる。\n",
    "\n",
    " $$\n",
    " y = \\frac{10(x-a)}{s} + 50\n",
    " $$ \n"
   ]
  },
  {
   "cell_type": "code",
   "execution_count": null,
   "metadata": {},
   "outputs": [
    {
     "name": "stdout",
     "output_type": "stream",
     "text": [
      "[68. 42. 43. 37. 59. 23. 69. 41. 53. 46. 66. 26. 46. 45. 62. 37. 47. 39.\n",
      " 50. 56. 37. 62. 60. 55. 59. 42. 48. 39. 46. 55. 42. 45. 42. 40. 42. 49.\n",
      " 37. 52. 68. 58. 47. 39. 41. 68. 50. 42. 51. 73. 51. 56. 53. 45. 36. 45.\n",
      " 47. 56. 59. 60. 53. 59. 41. 63. 55. 46. 55. 48. 62. 66. 74. 34. 33. 44.\n",
      " 51. 59. 53. 26. 46. 59. 52. 58. 47. 47. 51. 54. 52. 51. 42. 54. 51. 62.\n",
      " 63. 51. 45. 42. 54. 50. 45. 50. 42. 57.]\n"
     ]
    }
   ],
   "source": [
    "xs = np.round(10 * (x - np.average(x)) / np.std(x) + 50)\n",
    "print(xs)"
   ]
  },
  {
   "cell_type": "markdown",
   "metadata": {},
   "source": [
    "## 数学関数"
   ]
  },
  {
   "cell_type": "markdown",
   "metadata": {},
   "source": [
    "### 累乗・平方根\n",
    "累乗は np.power で求めることができる。"
   ]
  },
  {
   "cell_type": "code",
   "execution_count": null,
   "metadata": {},
   "outputs": [
    {
     "data": {
      "text/plain": [
       "16"
      ]
     },
     "execution_count": 161,
     "metadata": {},
     "output_type": "execute_result"
    }
   ],
   "source": [
    "np.power(2, 4)"
   ]
  },
  {
   "cell_type": "markdown",
   "metadata": {},
   "source": [
    "平方根は np.sqrt で求めることができる。"
   ]
  },
  {
   "cell_type": "code",
   "execution_count": null,
   "metadata": {},
   "outputs": [
    {
     "data": {
      "text/plain": [
       "4.0"
      ]
     },
     "execution_count": 162,
     "metadata": {},
     "output_type": "execute_result"
    }
   ],
   "source": [
    "np.sqrt(16)"
   ]
  },
  {
   "cell_type": "markdown",
   "metadata": {},
   "source": [
    "### 三角関数\n",
    "sin、cos、tan はそれぞれ np.sin()、np.cos()、np.tan()。引数はラジアン単位の角度。\n",
    "\n",
    "円周率は np.pi。"
   ]
  },
  {
   "cell_type": "code",
   "execution_count": null,
   "metadata": {},
   "outputs": [
    {
     "name": "stdout",
     "output_type": "stream",
     "text": [
      "3.141592653589793\n",
      "1.0\n"
     ]
    }
   ],
   "source": [
    "print(np.pi)\n",
    "print(np.sin(np.pi / 2))"
   ]
  },
  {
   "cell_type": "markdown",
   "metadata": {},
   "source": [
    "### 対数関数\n",
    "対数関数は底の種類毎に用意されている。\n",
    "\n",
    "- 底がネイピア数(e) : np.log(x)。(ネイピア数は np.e)\n",
    "- 底が2 : np.log2(x)\n",
    "- 底が10 : np.log10(x)"
   ]
  },
  {
   "cell_type": "code",
   "execution_count": null,
   "metadata": {},
   "outputs": [
    {
     "name": "stdout",
     "output_type": "stream",
     "text": [
      "1.0\n",
      "2.0\n",
      "3.0\n"
     ]
    }
   ],
   "source": [
    "print(np.log(np.e))\n",
    "print(np.log2(4))\n",
    "print(np.log10(1000))"
   ]
  },
  {
   "cell_type": "markdown",
   "metadata": {},
   "source": [
    "## ファイル入出力"
   ]
  },
  {
   "cell_type": "markdown",
   "metadata": {},
   "source": [
    "### ndarray をバイナリ形式で保存"
   ]
  },
  {
   "cell_type": "code",
   "execution_count": null,
   "metadata": {},
   "outputs": [
    {
     "name": "stdout",
     "output_type": "stream",
     "text": [
      "[0.         0.11111111 0.22222222 0.33333333 0.44444444 0.55555556\n",
      " 0.66666667 0.77777778 0.88888889 1.        ]\n"
     ]
    }
   ],
   "source": [
    "data = np.linspace(0,1,10)\n",
    "\n",
    "np.save('test.npy', data)\n",
    "\n",
    "ndarr2 = np.load('test.npy')\n",
    "\n",
    "print(ndarr2)\n"
   ]
  },
  {
   "cell_type": "markdown",
   "metadata": {},
   "source": [
    "### ndarray を　CSV で保存"
   ]
  },
  {
   "cell_type": "code",
   "execution_count": null,
   "metadata": {},
   "outputs": [],
   "source": [
    "np.savetxt('test.csv', data, delimiter=',')"
   ]
  },
  {
   "cell_type": "markdown",
   "metadata": {},
   "source": [
    "### バイナリ形式から読み込み"
   ]
  },
  {
   "cell_type": "code",
   "execution_count": null,
   "metadata": {},
   "outputs": [
    {
     "name": "stdout",
     "output_type": "stream",
     "text": [
      "[0.         0.11111111 0.22222222 0.33333333 0.44444444 0.55555556\n",
      " 0.66666667 0.77777778 0.88888889 1.        ]\n"
     ]
    }
   ],
   "source": [
    "data2 = np.load('test.npy')\n",
    "\n",
    "print(ndarr2)"
   ]
  },
  {
   "cell_type": "markdown",
   "metadata": {},
   "source": [
    "### CSV から読み込み"
   ]
  },
  {
   "cell_type": "code",
   "execution_count": null,
   "metadata": {},
   "outputs": [
    {
     "name": "stdout",
     "output_type": "stream",
     "text": [
      "[0.         0.11111111 0.22222222 0.33333333 0.44444444 0.55555556\n",
      " 0.66666667 0.77777778 0.88888889 1.        ]\n"
     ]
    }
   ],
   "source": [
    "data2= np.loadtxt('test.csv', delimiter=',')\n",
    "print(data2)"
   ]
  }
 ],
 "metadata": {
  "kernelspec": {
   "display_name": "Python 3",
   "language": "python",
   "name": "python3"
  },
  "language_info": {
   "codemirror_mode": {
    "name": "ipython",
    "version": 3
   },
   "file_extension": ".py",
   "mimetype": "text/x-python",
   "name": "python",
   "nbconvert_exporter": "python",
   "pygments_lexer": "ipython3",
   "version": "3.11.5"
  },
  "latex_envs": {
   "LaTeX_envs_menu_present": true,
   "bibliofile": "biblio.bib",
   "cite_by": "apalike",
   "current_citInitial": 1,
   "eqLabelWithNumbers": true,
   "eqNumInitial": 1,
   "labels_anchors": false,
   "latex_user_defs": false,
   "report_style_numbering": false,
   "user_envs_cfg": false
  },
  "toc": {
   "colors": {
    "hover_highlight": "#DAA520",
    "running_highlight": "#FF0000",
    "selected_highlight": "#FFD700"
   },
   "moveMenuLeft": true,
   "nav_menu": {
    "height": "420px",
    "width": "251px"
   },
   "navigate_menu": true,
   "number_sections": true,
   "sideBar": true,
   "threshold": 4,
   "toc_cell": false,
   "toc_section_display": "block",
   "toc_window_display": false
  }
 },
 "nbformat": 4,
 "nbformat_minor": 4
}
