{
 "metadata": {
  "language_info": {
   "codemirror_mode": {
    "name": "ipython",
    "version": 3
   },
   "file_extension": ".py",
   "mimetype": "text/x-python",
   "name": "python",
   "nbconvert_exporter": "python",
   "pygments_lexer": "ipython3",
   "version": 3
  },
  "orig_nbformat": 2
 },
 "nbformat": 4,
 "nbformat_minor": 2,
 "cells": [
  {
   "source": [
    "# はじめに\n",
    "\n",
    "## 本研修の目的\n",
    "- 本研修は、講義と演習を通して、「Pythonでの数値計算ライブラリの基礎の習得」を目的とする。\n",
    "\n",
    "## 到達目標\n",
    "- PythonでNumpy,Pandas,Scipy,matplotlibのライブラリを使用した実装できる。\n",
    "- Pythonで基礎的な統計計算の実装方法を理解することができる。\n",
    "\n"
   ],
   "cell_type": "markdown",
   "metadata": {}
  }
 ]
}